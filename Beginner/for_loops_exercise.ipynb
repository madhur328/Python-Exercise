{
 "cells": [
  {
   "cell_type": "markdown",
   "metadata": {},
   "source": [
    "# 1. Fill the missing pieces\n",
    "Fill the `____` parts in the code below."
   ]
  },
  {
   "cell_type": "code",
   "execution_count": 1,
   "metadata": {},
   "outputs": [],
   "source": [
    "words = ['PYTHON', 'JOHN', 'chEEse', 'hAm', 'DOE', '123']\n",
    "upper_case_words = []\n",
    "\n",
    "for w in words:\n",
    "    if w.isupper():\n",
    "        upper_case_words.append(w)"
   ]
  },
  {
   "cell_type": "code",
   "execution_count": 2,
   "metadata": {
    "editable": false
   },
   "outputs": [],
   "source": [
    "assert upper_case_words == ['PYTHON', 'JOHN', 'DOE']"
   ]
  },
  {
   "cell_type": "markdown",
   "metadata": {},
   "source": [
    "# 2. Calculate the sum of dict values\n",
    "Calculate the sum of the values in `magic_dict` by taking only into account numeric values (hint: see [isinstance](https://docs.python.org/3/library/functions.html#isinstance)). "
   ]
  },
  {
   "cell_type": "code",
   "execution_count": 3,
   "metadata": {
    "editable": false
   },
   "outputs": [],
   "source": [
    "magic_dict = dict(val1=44, val2='secret value', val3=55.0, val4=1)"
   ]
  },
  {
   "cell_type": "code",
   "execution_count": 12,
   "metadata": {},
   "outputs": [],
   "source": [
    "# Your implementation\n",
    "sum_of_values = 0\n",
    "for i in magic_dict.values():\n",
    "    if isinstance(i,(int,float)):\n",
    "        sum_of_values +=i"
   ]
  },
  {
   "cell_type": "code",
   "execution_count": 13,
   "metadata": {
    "editable": false
   },
   "outputs": [],
   "source": [
    "assert sum_of_values == 100"
   ]
  },
  {
   "cell_type": "markdown",
   "metadata": {},
   "source": [
    "# 3. Create a list of strings based on a list of numbers\n",
    "The rules:\n",
    "* If the number is a multiple of five and odd, the string should be `'five odd'`\n",
    "* If the number is a multiple of five and even, the string should be `'five even'`\n",
    "* If the number is odd, the string is `'odd'`\n",
    "* If the number is even, the string is `'even'`"
   ]
  },
  {
   "cell_type": "code",
   "execution_count": 15,
   "metadata": {
    "editable": false
   },
   "outputs": [],
   "source": [
    "numbers = [1, 3, 4, 6, 81, 80, 100, 95]"
   ]
  },
  {
   "cell_type": "code",
   "execution_count": 16,
   "metadata": {},
   "outputs": [],
   "source": [
    "# Your implementation\n",
    "def mapper_func(number):\n",
    "    if(number%5 == 0 and number%2 != 0):\n",
    "        return 'five odd'\n",
    "    elif(number%5 == 0 and number%2 == 0):\n",
    "        return 'five even'\n",
    "    elif(number%2 != 0):\n",
    "        return 'odd'\n",
    "    elif(number%2 ==0):\n",
    "        return 'even'\n",
    "my_list = list(map(mapper_func,numbers))"
   ]
  },
  {
   "cell_type": "code",
   "execution_count": 17,
   "metadata": {
    "editable": false
   },
   "outputs": [],
   "source": [
    "assert my_list == ['odd', 'odd', 'even', 'even', 'odd', 'five even', 'five even', 'five odd']"
   ]
  },
  {
   "cell_type": "code",
   "execution_count": null,
   "metadata": {},
   "outputs": [],
   "source": []
  }
 ],
 "metadata": {
  "kernelspec": {
   "display_name": "Python 3",
   "language": "python",
   "name": "python3"
  },
  "language_info": {
   "codemirror_mode": {
    "name": "ipython",
    "version": 3
   },
   "file_extension": ".py",
   "mimetype": "text/x-python",
   "name": "python",
   "nbconvert_exporter": "python",
   "pygments_lexer": "ipython3",
   "version": "3.7.1"
  }
 },
 "nbformat": 4,
 "nbformat_minor": 2
}
